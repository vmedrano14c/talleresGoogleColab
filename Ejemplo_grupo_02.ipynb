{
  "nbformat": 4,
  "nbformat_minor": 0,
  "metadata": {
    "colab": {
      "provenance": [],
      "toc_visible": true,
      "authorship_tag": "ABX9TyNLKitJ+DPwZSjD9qgcsB8O",
      "include_colab_link": true
    },
    "kernelspec": {
      "name": "python3",
      "display_name": "Python 3"
    },
    "language_info": {
      "name": "python"
    }
  },
  "cells": [
    {
      "cell_type": "markdown",
      "metadata": {
        "id": "view-in-github",
        "colab_type": "text"
      },
      "source": [
        "<a href=\"https://colab.research.google.com/github/gabrielawad/talleresGoogleColab/blob/main/Ejemplo_grupo_02.ipynb\" target=\"_parent\"><img src=\"https://colab.research.google.com/assets/colab-badge.svg\" alt=\"Open In Colab\"/></a>"
      ]
    },
    {
      "cell_type": "markdown",
      "source": [
        "# Título"
      ],
      "metadata": {
        "id": "zj4KvgG1nDhN"
      }
    },
    {
      "cell_type": "code",
      "execution_count": 1,
      "metadata": {
        "colab": {
          "base_uri": "https://localhost:8080/"
        },
        "id": "1U4WmCu-m9FY",
        "outputId": "641b9333-c5a1-42b3-b690-c9574f28f5ed"
      },
      "outputs": [
        {
          "output_type": "stream",
          "name": "stdout",
          "text": [
            "hola mundo\n"
          ]
        }
      ],
      "source": [
        "# imprimir hola mundo\n",
        "print(\"hola mundo\")"
      ]
    },
    {
      "cell_type": "markdown",
      "source": [
        "## Esto es un subtítulo\n",
        "\n",
        "Ejemplo **de** *clase*\n",
        "\n",
        "[chatgpt](https://chat.openai.com/auth/login)"
      ],
      "metadata": {
        "id": "9yQzWd6dndhQ"
      }
    },
    {
      "cell_type": "code",
      "source": [
        "print(){}"
      ],
      "metadata": {
        "id": "XEMlS0gXn0_0"
      },
      "execution_count": null,
      "outputs": []
    },
    {
      "cell_type": "markdown",
      "source": [
        "# Actualización de contenido"
      ],
      "metadata": {
        "id": "J0OrOrk8sjl-"
      }
    }
  ]
}